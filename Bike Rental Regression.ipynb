{
 "cells": [
  {
   "cell_type": "markdown",
   "metadata": {},
   "source": [
    "## Bike Sharing Data Set\n",
    "    \n",
    "### Predicting hourly bike rental count based on the environmental & seasonal settings\n",
    "\n",
    "### Data Dictonary\n",
    "\n",
    "1. instant - Record Index\n",
    "2. dteday - Date (Format: YYYY-MM-DD)\n",
    "3. season - Season (1: springer, 2: summer, 3: fall, 4: winter)\n",
    "4. yr - Year (0: 2011, 1:2012)\n",
    "5. mnth - Month (1 to 12)\n",
    "6. hr - Hour (0 to 23)\n",
    "7. holiday - Weather day is holiday or not\n",
    "8. weekday - Day of the week\n",
    "9. workingday - If day is neither weekend nor holiday is 1, otherwise is 0\n",
    "10. weathersit - Weather situation (1: Clear, Few   clouds, Partly cloudy, Partly cloudy; 2: Mist + Cloudy, Mist + Broken clouds, Mist + Few clouds, Mist; 3: Light Snow, Light Rain + Thunderstorm + Scattered clouds, Light Rain + Scattered clouds, 4: Heavy Rain + Ice Pallets + Thunderstorm + Mist, Snow + Fog)\n",
    "11. temp - Normalized temperature in Celsius. The values are derived via (t-t_min)/(t_max-t_min), t_min=-8, t_max=+39\n",
    "12. atemp - Normalized feeling temperature in Celsius. The values are derived via (t-t_min)/(t_max-t_min), t_min=-16, t_max=+50\n",
    "13. hum - Normalized humidity. The values are divided to 100 (max)\n",
    "14. windspeed - Normalized wind speed. The values are divided to 67 (max)\n",
    "15. casual - Count of casual users\n",
    "16. registered - Count of registered users\n",
    "17. cnt - Count of total rental bikes including both casual and registered"
   ]
  },
  {
   "cell_type": "markdown",
   "metadata": {},
   "source": [
    "### Important points to keep in mind:\n",
    "\n",
    "1. The metric used throughout this notebook to evaluate models is accuracy, which in regression terms refers to the coefficient of determination R^2, which is defined as the amount of variation in the dependent variable that is explained by the explanatory variables used.\n",
    "2. Every model uses cross validation with a 5-fold split to train, and the average of each fold is taken as a final accuracy for the model.\n",
    "3. A grid search has been implemented wherever necessary through nested for loops to find the best parameters for each model.\n",
    "4. It is important to note that the continuous variables temp, atemp, hum and windspeed have already been scaled, so no further scaling is necessary"
   ]
  },
  {
   "cell_type": "markdown",
   "metadata": {},
   "source": [
    "### Importing the necessary libraries"
   ]
  },
  {
   "cell_type": "code",
   "execution_count": 1,
   "metadata": {},
   "outputs": [],
   "source": [
    "import pandas as pd\n",
    "import numpy as np\n",
    "import matplotlib.pyplot as plt"
   ]
  },
  {
   "cell_type": "markdown",
   "metadata": {},
   "source": [
    "### Reading in the dataframe"
   ]
  },
  {
   "cell_type": "code",
   "execution_count": 2,
   "metadata": {},
   "outputs": [
    {
     "data": {
      "text/html": [
       "<div>\n",
       "<style scoped>\n",
       "    .dataframe tbody tr th:only-of-type {\n",
       "        vertical-align: middle;\n",
       "    }\n",
       "\n",
       "    .dataframe tbody tr th {\n",
       "        vertical-align: top;\n",
       "    }\n",
       "\n",
       "    .dataframe thead th {\n",
       "        text-align: right;\n",
       "    }\n",
       "</style>\n",
       "<table border=\"1\" class=\"dataframe\">\n",
       "  <thead>\n",
       "    <tr style=\"text-align: right;\">\n",
       "      <th></th>\n",
       "      <th>instant</th>\n",
       "      <th>dteday</th>\n",
       "      <th>season</th>\n",
       "      <th>yr</th>\n",
       "      <th>mnth</th>\n",
       "      <th>hr</th>\n",
       "      <th>holiday</th>\n",
       "      <th>weekday</th>\n",
       "      <th>workingday</th>\n",
       "      <th>weathersit</th>\n",
       "      <th>temp</th>\n",
       "      <th>atemp</th>\n",
       "      <th>hum</th>\n",
       "      <th>windspeed</th>\n",
       "      <th>casual</th>\n",
       "      <th>registered</th>\n",
       "      <th>cnt</th>\n",
       "    </tr>\n",
       "  </thead>\n",
       "  <tbody>\n",
       "    <tr>\n",
       "      <th>0</th>\n",
       "      <td>1</td>\n",
       "      <td>2011-01-01</td>\n",
       "      <td>1</td>\n",
       "      <td>0</td>\n",
       "      <td>1</td>\n",
       "      <td>0</td>\n",
       "      <td>0</td>\n",
       "      <td>6</td>\n",
       "      <td>0</td>\n",
       "      <td>1</td>\n",
       "      <td>0.24</td>\n",
       "      <td>0.2879</td>\n",
       "      <td>0.81</td>\n",
       "      <td>0.0000</td>\n",
       "      <td>3</td>\n",
       "      <td>13</td>\n",
       "      <td>16</td>\n",
       "    </tr>\n",
       "    <tr>\n",
       "      <th>1</th>\n",
       "      <td>2</td>\n",
       "      <td>2011-01-01</td>\n",
       "      <td>1</td>\n",
       "      <td>0</td>\n",
       "      <td>1</td>\n",
       "      <td>1</td>\n",
       "      <td>0</td>\n",
       "      <td>6</td>\n",
       "      <td>0</td>\n",
       "      <td>1</td>\n",
       "      <td>0.22</td>\n",
       "      <td>0.2727</td>\n",
       "      <td>0.80</td>\n",
       "      <td>0.0000</td>\n",
       "      <td>8</td>\n",
       "      <td>32</td>\n",
       "      <td>40</td>\n",
       "    </tr>\n",
       "    <tr>\n",
       "      <th>2</th>\n",
       "      <td>3</td>\n",
       "      <td>2011-01-01</td>\n",
       "      <td>1</td>\n",
       "      <td>0</td>\n",
       "      <td>1</td>\n",
       "      <td>2</td>\n",
       "      <td>0</td>\n",
       "      <td>6</td>\n",
       "      <td>0</td>\n",
       "      <td>1</td>\n",
       "      <td>0.22</td>\n",
       "      <td>0.2727</td>\n",
       "      <td>0.80</td>\n",
       "      <td>0.0000</td>\n",
       "      <td>5</td>\n",
       "      <td>27</td>\n",
       "      <td>32</td>\n",
       "    </tr>\n",
       "    <tr>\n",
       "      <th>3</th>\n",
       "      <td>4</td>\n",
       "      <td>2011-01-01</td>\n",
       "      <td>1</td>\n",
       "      <td>0</td>\n",
       "      <td>1</td>\n",
       "      <td>3</td>\n",
       "      <td>0</td>\n",
       "      <td>6</td>\n",
       "      <td>0</td>\n",
       "      <td>1</td>\n",
       "      <td>0.24</td>\n",
       "      <td>0.2879</td>\n",
       "      <td>0.75</td>\n",
       "      <td>0.0000</td>\n",
       "      <td>3</td>\n",
       "      <td>10</td>\n",
       "      <td>13</td>\n",
       "    </tr>\n",
       "    <tr>\n",
       "      <th>4</th>\n",
       "      <td>5</td>\n",
       "      <td>2011-01-01</td>\n",
       "      <td>1</td>\n",
       "      <td>0</td>\n",
       "      <td>1</td>\n",
       "      <td>4</td>\n",
       "      <td>0</td>\n",
       "      <td>6</td>\n",
       "      <td>0</td>\n",
       "      <td>1</td>\n",
       "      <td>0.24</td>\n",
       "      <td>0.2879</td>\n",
       "      <td>0.75</td>\n",
       "      <td>0.0000</td>\n",
       "      <td>0</td>\n",
       "      <td>1</td>\n",
       "      <td>1</td>\n",
       "    </tr>\n",
       "    <tr>\n",
       "      <th>...</th>\n",
       "      <td>...</td>\n",
       "      <td>...</td>\n",
       "      <td>...</td>\n",
       "      <td>...</td>\n",
       "      <td>...</td>\n",
       "      <td>...</td>\n",
       "      <td>...</td>\n",
       "      <td>...</td>\n",
       "      <td>...</td>\n",
       "      <td>...</td>\n",
       "      <td>...</td>\n",
       "      <td>...</td>\n",
       "      <td>...</td>\n",
       "      <td>...</td>\n",
       "      <td>...</td>\n",
       "      <td>...</td>\n",
       "      <td>...</td>\n",
       "    </tr>\n",
       "    <tr>\n",
       "      <th>17374</th>\n",
       "      <td>17375</td>\n",
       "      <td>2012-12-31</td>\n",
       "      <td>1</td>\n",
       "      <td>1</td>\n",
       "      <td>12</td>\n",
       "      <td>19</td>\n",
       "      <td>0</td>\n",
       "      <td>1</td>\n",
       "      <td>1</td>\n",
       "      <td>2</td>\n",
       "      <td>0.26</td>\n",
       "      <td>0.2576</td>\n",
       "      <td>0.60</td>\n",
       "      <td>0.1642</td>\n",
       "      <td>11</td>\n",
       "      <td>108</td>\n",
       "      <td>119</td>\n",
       "    </tr>\n",
       "    <tr>\n",
       "      <th>17375</th>\n",
       "      <td>17376</td>\n",
       "      <td>2012-12-31</td>\n",
       "      <td>1</td>\n",
       "      <td>1</td>\n",
       "      <td>12</td>\n",
       "      <td>20</td>\n",
       "      <td>0</td>\n",
       "      <td>1</td>\n",
       "      <td>1</td>\n",
       "      <td>2</td>\n",
       "      <td>0.26</td>\n",
       "      <td>0.2576</td>\n",
       "      <td>0.60</td>\n",
       "      <td>0.1642</td>\n",
       "      <td>8</td>\n",
       "      <td>81</td>\n",
       "      <td>89</td>\n",
       "    </tr>\n",
       "    <tr>\n",
       "      <th>17376</th>\n",
       "      <td>17377</td>\n",
       "      <td>2012-12-31</td>\n",
       "      <td>1</td>\n",
       "      <td>1</td>\n",
       "      <td>12</td>\n",
       "      <td>21</td>\n",
       "      <td>0</td>\n",
       "      <td>1</td>\n",
       "      <td>1</td>\n",
       "      <td>1</td>\n",
       "      <td>0.26</td>\n",
       "      <td>0.2576</td>\n",
       "      <td>0.60</td>\n",
       "      <td>0.1642</td>\n",
       "      <td>7</td>\n",
       "      <td>83</td>\n",
       "      <td>90</td>\n",
       "    </tr>\n",
       "    <tr>\n",
       "      <th>17377</th>\n",
       "      <td>17378</td>\n",
       "      <td>2012-12-31</td>\n",
       "      <td>1</td>\n",
       "      <td>1</td>\n",
       "      <td>12</td>\n",
       "      <td>22</td>\n",
       "      <td>0</td>\n",
       "      <td>1</td>\n",
       "      <td>1</td>\n",
       "      <td>1</td>\n",
       "      <td>0.26</td>\n",
       "      <td>0.2727</td>\n",
       "      <td>0.56</td>\n",
       "      <td>0.1343</td>\n",
       "      <td>13</td>\n",
       "      <td>48</td>\n",
       "      <td>61</td>\n",
       "    </tr>\n",
       "    <tr>\n",
       "      <th>17378</th>\n",
       "      <td>17379</td>\n",
       "      <td>2012-12-31</td>\n",
       "      <td>1</td>\n",
       "      <td>1</td>\n",
       "      <td>12</td>\n",
       "      <td>23</td>\n",
       "      <td>0</td>\n",
       "      <td>1</td>\n",
       "      <td>1</td>\n",
       "      <td>1</td>\n",
       "      <td>0.26</td>\n",
       "      <td>0.2727</td>\n",
       "      <td>0.65</td>\n",
       "      <td>0.1343</td>\n",
       "      <td>12</td>\n",
       "      <td>37</td>\n",
       "      <td>49</td>\n",
       "    </tr>\n",
       "  </tbody>\n",
       "</table>\n",
       "<p>17379 rows × 17 columns</p>\n",
       "</div>"
      ],
      "text/plain": [
       "       instant      dteday  season  yr  mnth  hr  holiday  weekday  \\\n",
       "0            1  2011-01-01       1   0     1   0        0        6   \n",
       "1            2  2011-01-01       1   0     1   1        0        6   \n",
       "2            3  2011-01-01       1   0     1   2        0        6   \n",
       "3            4  2011-01-01       1   0     1   3        0        6   \n",
       "4            5  2011-01-01       1   0     1   4        0        6   \n",
       "...        ...         ...     ...  ..   ...  ..      ...      ...   \n",
       "17374    17375  2012-12-31       1   1    12  19        0        1   \n",
       "17375    17376  2012-12-31       1   1    12  20        0        1   \n",
       "17376    17377  2012-12-31       1   1    12  21        0        1   \n",
       "17377    17378  2012-12-31       1   1    12  22        0        1   \n",
       "17378    17379  2012-12-31       1   1    12  23        0        1   \n",
       "\n",
       "       workingday  weathersit  temp   atemp   hum  windspeed  casual  \\\n",
       "0               0           1  0.24  0.2879  0.81     0.0000       3   \n",
       "1               0           1  0.22  0.2727  0.80     0.0000       8   \n",
       "2               0           1  0.22  0.2727  0.80     0.0000       5   \n",
       "3               0           1  0.24  0.2879  0.75     0.0000       3   \n",
       "4               0           1  0.24  0.2879  0.75     0.0000       0   \n",
       "...           ...         ...   ...     ...   ...        ...     ...   \n",
       "17374           1           2  0.26  0.2576  0.60     0.1642      11   \n",
       "17375           1           2  0.26  0.2576  0.60     0.1642       8   \n",
       "17376           1           1  0.26  0.2576  0.60     0.1642       7   \n",
       "17377           1           1  0.26  0.2727  0.56     0.1343      13   \n",
       "17378           1           1  0.26  0.2727  0.65     0.1343      12   \n",
       "\n",
       "       registered  cnt  \n",
       "0              13   16  \n",
       "1              32   40  \n",
       "2              27   32  \n",
       "3              10   13  \n",
       "4               1    1  \n",
       "...           ...  ...  \n",
       "17374         108  119  \n",
       "17375          81   89  \n",
       "17376          83   90  \n",
       "17377          48   61  \n",
       "17378          37   49  \n",
       "\n",
       "[17379 rows x 17 columns]"
      ]
     },
     "execution_count": 2,
     "metadata": {},
     "output_type": "execute_result"
    }
   ],
   "source": [
    "df = pd.read_csv('Bike Rental Dataset.csv')\n",
    "df"
   ]
  },
  {
   "cell_type": "markdown",
   "metadata": {},
   "source": [
    "### Checking for any missing values"
   ]
  },
  {
   "cell_type": "code",
   "execution_count": 3,
   "metadata": {},
   "outputs": [
    {
     "name": "stdout",
     "output_type": "stream",
     "text": [
      "<class 'pandas.core.frame.DataFrame'>\n",
      "RangeIndex: 17379 entries, 0 to 17378\n",
      "Data columns (total 17 columns):\n",
      " #   Column      Non-Null Count  Dtype  \n",
      "---  ------      --------------  -----  \n",
      " 0   instant     17379 non-null  int64  \n",
      " 1   dteday      17379 non-null  object \n",
      " 2   season      17379 non-null  int64  \n",
      " 3   yr          17379 non-null  int64  \n",
      " 4   mnth        17379 non-null  int64  \n",
      " 5   hr          17379 non-null  int64  \n",
      " 6   holiday     17379 non-null  int64  \n",
      " 7   weekday     17379 non-null  int64  \n",
      " 8   workingday  17379 non-null  int64  \n",
      " 9   weathersit  17379 non-null  int64  \n",
      " 10  temp        17379 non-null  float64\n",
      " 11  atemp       17379 non-null  float64\n",
      " 12  hum         17379 non-null  float64\n",
      " 13  windspeed   17379 non-null  float64\n",
      " 14  casual      17379 non-null  int64  \n",
      " 15  registered  17379 non-null  int64  \n",
      " 16  cnt         17379 non-null  int64  \n",
      "dtypes: float64(4), int64(12), object(1)\n",
      "memory usage: 2.3+ MB\n"
     ]
    }
   ],
   "source": [
    "df.info()"
   ]
  },
  {
   "cell_type": "markdown",
   "metadata": {},
   "source": [
    "#### There are no missing values in this dataset.\n",
    "#### Since one of the requirements is that the dataset have 5% - 10% missing values, we shall proceed to randomly impute NotANumber (NaN) values throughout."
   ]
  },
  {
   "cell_type": "code",
   "execution_count": 4,
   "metadata": {},
   "outputs": [],
   "source": [
    "df = df.mask(np.random.random(df.shape) < .0485)"
   ]
  },
  {
   "cell_type": "markdown",
   "metadata": {},
   "source": [
    "#### Now let us check the percentage of missing values in the dataset"
   ]
  },
  {
   "cell_type": "code",
   "execution_count": 5,
   "metadata": {},
   "outputs": [
    {
     "data": {
      "text/plain": [
       "5.077035793546918"
      ]
     },
     "execution_count": 5,
     "metadata": {},
     "output_type": "execute_result"
    }
   ],
   "source": [
    "df.isna().sum().sum()/df.count().sum() * 100"
   ]
  },
  {
   "cell_type": "markdown",
   "metadata": {},
   "source": [
    "#### Roughly 5.08% of the datapoints been deleted, which meets the requirement.\n",
    "#### Let's proceed to drop these rows from the dataset. The reason why we are dropping these rows instead of imputing values is to reduce the size of the dataset for computation. Models such as kernel SVM are bad at scaling to many data points and as a result, are computationally intensive and take longer than average to spit out a result."
   ]
  },
  {
   "cell_type": "code",
   "execution_count": 6,
   "metadata": {},
   "outputs": [],
   "source": [
    "df.dropna(inplace=True)"
   ]
  },
  {
   "cell_type": "markdown",
   "metadata": {},
   "source": [
    "#### Checking the data again for uniformity"
   ]
  },
  {
   "cell_type": "code",
   "execution_count": 7,
   "metadata": {},
   "outputs": [
    {
     "name": "stdout",
     "output_type": "stream",
     "text": [
      "<class 'pandas.core.frame.DataFrame'>\n",
      "Int64Index: 7453 entries, 6 to 17378\n",
      "Data columns (total 17 columns):\n",
      " #   Column      Non-Null Count  Dtype  \n",
      "---  ------      --------------  -----  \n",
      " 0   instant     7453 non-null   float64\n",
      " 1   dteday      7453 non-null   object \n",
      " 2   season      7453 non-null   float64\n",
      " 3   yr          7453 non-null   float64\n",
      " 4   mnth        7453 non-null   float64\n",
      " 5   hr          7453 non-null   float64\n",
      " 6   holiday     7453 non-null   float64\n",
      " 7   weekday     7453 non-null   float64\n",
      " 8   workingday  7453 non-null   float64\n",
      " 9   weathersit  7453 non-null   float64\n",
      " 10  temp        7453 non-null   float64\n",
      " 11  atemp       7453 non-null   float64\n",
      " 12  hum         7453 non-null   float64\n",
      " 13  windspeed   7453 non-null   float64\n",
      " 14  casual      7453 non-null   float64\n",
      " 15  registered  7453 non-null   float64\n",
      " 16  cnt         7453 non-null   float64\n",
      "dtypes: float64(16), object(1)\n",
      "memory usage: 1.0+ MB\n"
     ]
    }
   ],
   "source": [
    "df.info()"
   ]
  },
  {
   "cell_type": "markdown",
   "metadata": {},
   "source": [
    "#### Now let's delete those columns which are no longer needed. Let's first explore the reasons why these columns are unnecessary.\n",
    "1. instant - This is nothing but a serial number or index, with unique values for each entry and hence, cannot be used to predict anything.\n",
    "2. dteday - While this variable is a date and has the potential to be useful, the information that it conveys is already captured by other variables in the dataset, and has therefore been dropped.\n",
    "3. Adding casual + registered users gives us the total count('cnt'). As a result, any model which includes these 2 variables will give 100% accuracy all the time."
   ]
  },
  {
   "cell_type": "code",
   "execution_count": 8,
   "metadata": {},
   "outputs": [],
   "source": [
    "df.drop(['instant', 'dteday', 'casual', 'registered'], axis = 1, inplace = True)"
   ]
  },
  {
   "cell_type": "markdown",
   "metadata": {},
   "source": [
    "### Let's proceed to one hot code the categorical variables.\n",
    "While an argument can be made that some of these variables can be treated as ordinal, it makes more sense to one hot code them as otherwise, there is a risk that the model will end up treating them as continuous. Also, the total number of columns that ends up being generated is not too many compared to the number of rows in the dataset, and we can hence be more sure of our estimates and reduce the chance of overfitting."
   ]
  },
  {
   "cell_type": "code",
   "execution_count": 9,
   "metadata": {},
   "outputs": [],
   "source": [
    "cols = pd.get_dummies(df['mnth'], prefix = 'month')\n",
    "df[cols.columns] = cols\n",
    "df.drop('mnth', axis = 1, inplace = True)"
   ]
  },
  {
   "cell_type": "code",
   "execution_count": 10,
   "metadata": {},
   "outputs": [],
   "source": [
    "cols = pd.get_dummies(df['season'], prefix = 'season')\n",
    "df[cols.columns] = cols\n",
    "df.drop('season', axis = 1, inplace = True)"
   ]
  },
  {
   "cell_type": "code",
   "execution_count": 11,
   "metadata": {},
   "outputs": [],
   "source": [
    "cols = pd.get_dummies(df['weathersit'], prefix = 'weather_situation')\n",
    "df[cols.columns] = cols\n",
    "df.drop('weathersit', axis = 1, inplace = True)"
   ]
  },
  {
   "cell_type": "code",
   "execution_count": 12,
   "metadata": {},
   "outputs": [],
   "source": [
    "cols = pd.get_dummies(df['weekday'], prefix = 'day_of_week')\n",
    "df[cols.columns] = cols\n",
    "df.drop('weekday', axis = 1, inplace = True)"
   ]
  },
  {
   "cell_type": "code",
   "execution_count": 13,
   "metadata": {},
   "outputs": [],
   "source": [
    "cols = pd.get_dummies(df['hr'], prefix = 'hour_of_day')\n",
    "df[cols.columns] = cols\n",
    "df.drop('hr', axis = 1, inplace = True)"
   ]
  },
  {
   "cell_type": "markdown",
   "metadata": {},
   "source": [
    "#### Let's take a final look at the number of features in our dataset"
   ]
  },
  {
   "cell_type": "code",
   "execution_count": 14,
   "metadata": {},
   "outputs": [
    {
     "name": "stdout",
     "output_type": "stream",
     "text": [
      "<class 'pandas.core.frame.DataFrame'>\n",
      "Int64Index: 7453 entries, 6 to 17378\n",
      "Data columns (total 58 columns):\n",
      " #   Column                 Non-Null Count  Dtype  \n",
      "---  ------                 --------------  -----  \n",
      " 0   yr                     7453 non-null   float64\n",
      " 1   holiday                7453 non-null   float64\n",
      " 2   workingday             7453 non-null   float64\n",
      " 3   temp                   7453 non-null   float64\n",
      " 4   atemp                  7453 non-null   float64\n",
      " 5   hum                    7453 non-null   float64\n",
      " 6   windspeed              7453 non-null   float64\n",
      " 7   cnt                    7453 non-null   float64\n",
      " 8   month_1.0              7453 non-null   uint8  \n",
      " 9   month_2.0              7453 non-null   uint8  \n",
      " 10  month_3.0              7453 non-null   uint8  \n",
      " 11  month_4.0              7453 non-null   uint8  \n",
      " 12  month_5.0              7453 non-null   uint8  \n",
      " 13  month_6.0              7453 non-null   uint8  \n",
      " 14  month_7.0              7453 non-null   uint8  \n",
      " 15  month_8.0              7453 non-null   uint8  \n",
      " 16  month_9.0              7453 non-null   uint8  \n",
      " 17  month_10.0             7453 non-null   uint8  \n",
      " 18  month_11.0             7453 non-null   uint8  \n",
      " 19  month_12.0             7453 non-null   uint8  \n",
      " 20  season_1.0             7453 non-null   uint8  \n",
      " 21  season_2.0             7453 non-null   uint8  \n",
      " 22  season_3.0             7453 non-null   uint8  \n",
      " 23  season_4.0             7453 non-null   uint8  \n",
      " 24  weather_situation_1.0  7453 non-null   uint8  \n",
      " 25  weather_situation_2.0  7453 non-null   uint8  \n",
      " 26  weather_situation_3.0  7453 non-null   uint8  \n",
      " 27  day_of_week_0.0        7453 non-null   uint8  \n",
      " 28  day_of_week_1.0        7453 non-null   uint8  \n",
      " 29  day_of_week_2.0        7453 non-null   uint8  \n",
      " 30  day_of_week_3.0        7453 non-null   uint8  \n",
      " 31  day_of_week_4.0        7453 non-null   uint8  \n",
      " 32  day_of_week_5.0        7453 non-null   uint8  \n",
      " 33  day_of_week_6.0        7453 non-null   uint8  \n",
      " 34  hour_of_day_0.0        7453 non-null   uint8  \n",
      " 35  hour_of_day_1.0        7453 non-null   uint8  \n",
      " 36  hour_of_day_2.0        7453 non-null   uint8  \n",
      " 37  hour_of_day_3.0        7453 non-null   uint8  \n",
      " 38  hour_of_day_4.0        7453 non-null   uint8  \n",
      " 39  hour_of_day_5.0        7453 non-null   uint8  \n",
      " 40  hour_of_day_6.0        7453 non-null   uint8  \n",
      " 41  hour_of_day_7.0        7453 non-null   uint8  \n",
      " 42  hour_of_day_8.0        7453 non-null   uint8  \n",
      " 43  hour_of_day_9.0        7453 non-null   uint8  \n",
      " 44  hour_of_day_10.0       7453 non-null   uint8  \n",
      " 45  hour_of_day_11.0       7453 non-null   uint8  \n",
      " 46  hour_of_day_12.0       7453 non-null   uint8  \n",
      " 47  hour_of_day_13.0       7453 non-null   uint8  \n",
      " 48  hour_of_day_14.0       7453 non-null   uint8  \n",
      " 49  hour_of_day_15.0       7453 non-null   uint8  \n",
      " 50  hour_of_day_16.0       7453 non-null   uint8  \n",
      " 51  hour_of_day_17.0       7453 non-null   uint8  \n",
      " 52  hour_of_day_18.0       7453 non-null   uint8  \n",
      " 53  hour_of_day_19.0       7453 non-null   uint8  \n",
      " 54  hour_of_day_20.0       7453 non-null   uint8  \n",
      " 55  hour_of_day_21.0       7453 non-null   uint8  \n",
      " 56  hour_of_day_22.0       7453 non-null   uint8  \n",
      " 57  hour_of_day_23.0       7453 non-null   uint8  \n",
      "dtypes: float64(8), uint8(50)\n",
      "memory usage: 888.0 KB\n"
     ]
    }
   ],
   "source": [
    "df.info()"
   ]
  },
  {
   "cell_type": "markdown",
   "metadata": {},
   "source": [
    "#### Designating 'cnt' as the target and the rest as explanatory variables"
   ]
  },
  {
   "cell_type": "code",
   "execution_count": 15,
   "metadata": {},
   "outputs": [],
   "source": [
    "X = df.drop('cnt', axis = 1)\n",
    "y = df['cnt']"
   ]
  },
  {
   "cell_type": "markdown",
   "metadata": {},
   "source": [
    "### Using the Cross Validation library from scikit-learn"
   ]
  },
  {
   "cell_type": "code",
   "execution_count": 16,
   "metadata": {},
   "outputs": [],
   "source": [
    "from sklearn.model_selection import cross_val_score"
   ]
  },
  {
   "cell_type": "markdown",
   "metadata": {},
   "source": [
    "#### Now that all preprocessing is done, let's try out various models under different hyperparameters."
   ]
  },
  {
   "cell_type": "markdown",
   "metadata": {},
   "source": [
    "### Model 1: Linear Regression"
   ]
  },
  {
   "cell_type": "code",
   "execution_count": 17,
   "metadata": {},
   "outputs": [],
   "source": [
    "from sklearn.linear_model import LinearRegression"
   ]
  },
  {
   "cell_type": "code",
   "execution_count": 18,
   "metadata": {},
   "outputs": [
    {
     "name": "stdout",
     "output_type": "stream",
     "text": [
      "Average cross-validation score: 0.54\n"
     ]
    }
   ],
   "source": [
    "lreg = LinearRegression()\n",
    "scores = cross_val_score(lreg, X, y)\n",
    "print(\"Average cross-validation score: {:.2f}\".format(scores.mean()))"
   ]
  },
  {
   "cell_type": "markdown",
   "metadata": {},
   "source": [
    "#### Linear Regression gives us a decent score of 0.54"
   ]
  },
  {
   "cell_type": "markdown",
   "metadata": {},
   "source": [
    "### Model 2: Ridge Regression"
   ]
  },
  {
   "cell_type": "code",
   "execution_count": 24,
   "metadata": {},
   "outputs": [],
   "source": [
    "from sklearn.linear_model import Ridge"
   ]
  },
  {
   "cell_type": "code",
   "execution_count": 25,
   "metadata": {},
   "outputs": [
    {
     "data": {
      "text/plain": [
       "Text(0.5, 0, 'alpha_values')"
      ]
     },
     "execution_count": 25,
     "metadata": {},
     "output_type": "execute_result"
    },
    {
     "data": {
      "image/png": "[encoded data removed]",
      "text/plain": [
       "<Figure size 432x288 with 1 Axes>"
      ]
     },
     "metadata": {
      "needs_background": "light"
     },
     "output_type": "display_data"
    }
   ],
   "source": [
    "accuracy = []\n",
    "alpha_values = [200, 100, 50, 10, 1, 0.1, 0.01, 0.001, 0.0001]\n",
    "\n",
    "for alpha in alpha_values:\n",
    "    ridge = Ridge(alpha, max_iter = 100000)\n",
    "    scores = cross_val_score(ridge, X, y)\n",
    "    accuracy.append(scores.mean())\n",
    "plt.plot(alpha_values, accuracy)\n",
    "plt.ylabel(\"Accuracy\")\n",
    "plt.xlabel(\"alpha_values\")"
   ]
  },
  {
   "cell_type": "markdown",
   "metadata": {},
   "source": [
    "#### Looks like an alpha value of 50 gives the best accuracy in the ridge regression model (approximately 0.59)"
   ]
  },
  {
   "cell_type": "markdown",
   "metadata": {},
   "source": [
    "### Model 3: Lasso Regression"
   ]
  },
  {
   "cell_type": "code",
   "execution_count": 26,
   "metadata": {},
   "outputs": [],
   "source": [
    "from sklearn.linear_model import Lasso"
   ]
  },
  {
   "cell_type": "code",
   "execution_count": 27,
   "metadata": {
    "scrolled": true
   },
   "outputs": [
    {
     "data": {
      "text/plain": [
       "Text(0.5, 0, 'alpha_values')"
      ]
     },
     "execution_count": 27,
     "metadata": {},
     "output_type": "execute_result"
    },
    {
     "data": {
      "image/png": "[encoded data removed]",
      "text/plain": [
       "<Figure size 432x288 with 1 Axes>"
      ]
     },
     "metadata": {
      "needs_background": "light"
     },
     "output_type": "display_data"
    }
   ],
   "source": [
    "accuracy = []\n",
    "alpha_values = [10, 5, 1, 0.1, 0.01]\n",
    "\n",
    "for alpha in alpha_values:\n",
    "    lasso = Lasso(alpha, max_iter = 100000)\n",
    "    scores = cross_val_score(lasso, X, y)\n",
    "    accuracy.append(scores.mean())\n",
    "plt.plot(alpha_values, accuracy)\n",
    "plt.ylabel(\"Accuracy\")\n",
    "plt.xlabel(\"alpha_values\")"
   ]
  },
  {
   "cell_type": "markdown",
   "metadata": {},
   "source": [
    "#### An alpha value of 1 gives the best accuracy of roughly 0.58 for the Lasso Regression model"
   ]
  },
  {
   "cell_type": "markdown",
   "metadata": {},
   "source": [
    "### Model 4: KNN Regressor"
   ]
  },
  {
   "cell_type": "code",
   "execution_count": 28,
   "metadata": {},
   "outputs": [],
   "source": [
    "from sklearn.neighbors import KNeighborsRegressor"
   ]
  },
  {
   "cell_type": "code",
   "execution_count": 29,
   "metadata": {},
   "outputs": [
    {
     "data": {
      "text/plain": [
       "Text(0.5, 0, 'n_neighbors')"
      ]
     },
     "execution_count": 29,
     "metadata": {},
     "output_type": "execute_result"
    },
    {
     "data": {
      "image/png": "[encoded data removed]",
      "text/plain": [
       "<Figure size 432x288 with 1 Axes>"
      ]
     },
     "metadata": {
      "needs_background": "light"
     },
     "output_type": "display_data"
    }
   ],
   "source": [
    "accuracy = []\n",
    "neighbors_settings = range(1, 15)\n",
    "\n",
    "for n_neighbors in neighbors_settings:\n",
    "    knn = KNeighborsRegressor(n_neighbors = n_neighbors)\n",
    "    scores = cross_val_score(knn, X, y)\n",
    "    accuracy.append(scores.mean())\n",
    "plt.plot(neighbors_settings, accuracy)\n",
    "plt.ylabel(\"Accuracy\")\n",
    "plt.xlabel(\"n_neighbors\")"
   ]
  },
  {
   "cell_type": "markdown",
   "metadata": {},
   "source": [
    "#### The KNN regressor gives us terrible accuracy and we therfore shall not be using this model."
   ]
  },
  {
   "cell_type": "markdown",
   "metadata": {},
   "source": [
    "### Model 5: Decision Tree Regressor"
   ]
  },
  {
   "cell_type": "code",
   "execution_count": 30,
   "metadata": {},
   "outputs": [],
   "source": [
    "from sklearn.tree import DecisionTreeRegressor"
   ]
  },
  {
   "cell_type": "code",
   "execution_count": 31,
   "metadata": {},
   "outputs": [
    {
     "name": "stdout",
     "output_type": "stream",
     "text": [
      "The parameters which give the best score of 0.583 are max_depth: 25.0 and min_samples_split: 0.0035454545454545456\n"
     ]
    }
   ],
   "source": [
    "max_depth_settings = np.linspace(1, 50, 50, endpoint=True)\n",
    "min_samples_split_settings = np.linspace(0.001, 0.01, 100, endpoint=True)\n",
    "best_score = 0\n",
    "for max_depth in max_depth_settings:\n",
    "    for min_samples_split in min_samples_split_settings:\n",
    "        tree = DecisionTreeRegressor(max_depth=max_depth, min_samples_split=min_samples_split)\n",
    "        score = cross_val_score(tree, X, y).mean()\n",
    "        if score > best_score:\n",
    "            best_score = score\n",
    "            best_max_depth = max_depth\n",
    "            best_min_samples_split = min_samples_split\n",
    "            \n",
    "print('The parameters which give the best score of {:.3f}'.format(best_score),\n",
    "      'are max_depth:',best_max_depth,'and min_samples_split:',best_min_samples_split)"
   ]
  },
  {
   "cell_type": "markdown",
   "metadata": {},
   "source": [
    "#### Decision Tree so far has given us the best accuracy of any model for this dataset."
   ]
  },
  {
   "cell_type": "markdown",
   "metadata": {},
   "source": [
    "### Model 6: Linear Support Vector Regressor"
   ]
  },
  {
   "cell_type": "code",
   "execution_count": 32,
   "metadata": {},
   "outputs": [],
   "source": [
    "from sklearn.svm import LinearSVR"
   ]
  },
  {
   "cell_type": "code",
   "execution_count": 33,
   "metadata": {},
   "outputs": [
    {
     "data": {
      "text/plain": [
       "Text(0.5, 0, 'c_values')"
      ]
     },
     "execution_count": 33,
     "metadata": {},
     "output_type": "execute_result"
    },
    {
     "data": {
      "image/png": "[encoded data removed]",
      "text/plain": [
       "<Figure size 432x288 with 1 Axes>"
      ]
     },
     "metadata": {
      "needs_background": "light"
     },
     "output_type": "display_data"
    }
   ],
   "source": [
    "accuracy = []\n",
    "C_settings = [0.001, 0.005, 0.01, 0.05, 0.1, 1, 5]\n",
    "for C in C_settings:\n",
    "    lsvr = LinearSVR(C = C, max_iter = 100000)\n",
    "    scores = cross_val_score(lsvr, X, y)\n",
    "    accuracy.append(scores.mean())\n",
    "plt.plot(C_settings, accuracy)\n",
    "plt.ylabel(\"Accuracy\")\n",
    "plt.xlabel(\"c_values\")"
   ]
  },
  {
   "cell_type": "markdown",
   "metadata": {},
   "source": [
    "#### The Linear SVR gives us decent accuracy, but the Decision Tree is still the best performing algorithm."
   ]
  },
  {
   "cell_type": "markdown",
   "metadata": {},
   "source": [
    "### Model 7: Kernelized Support Vector Regression"
   ]
  },
  {
   "cell_type": "code",
   "execution_count": 34,
   "metadata": {},
   "outputs": [],
   "source": [
    "from sklearn.svm import SVR"
   ]
  },
  {
   "cell_type": "markdown",
   "metadata": {},
   "source": [
    "#### (i) Using rbf kernel"
   ]
  },
  {
   "cell_type": "code",
   "execution_count": 35,
   "metadata": {},
   "outputs": [
    {
     "name": "stdout",
     "output_type": "stream",
     "text": [
      "The parameter which gives the best score of 0.804 is C: 50000\n"
     ]
    }
   ],
   "source": [
    "C_settings = [50000, 100000]\n",
    "best_score = 0\n",
    "\n",
    "for C in C_settings:\n",
    "    ksvr = SVR(kernel = 'rbf', C = C, epsilon = 10)\n",
    "    score = cross_val_score(ksvr, X, y).mean()\n",
    "    if score > best_score:\n",
    "        best_score = score\n",
    "        best_C = C\n",
    "            \n",
    "print('The parameter which gives the best score of {:.3f}'.format(best_score),'is C:',best_C)"
   ]
  },
  {
   "cell_type": "markdown",
   "metadata": {},
   "source": [
    "#### (ii) Using linear kernel"
   ]
  },
  {
   "cell_type": "code",
   "execution_count": 36,
   "metadata": {},
   "outputs": [
    {
     "name": "stdout",
     "output_type": "stream",
     "text": [
      "The parameters which give the best score of 0.531 are C: 25 and epsilon: 10\n"
     ]
    }
   ],
   "source": [
    "C_settings = [1, 25, 50]\n",
    "epsilon_settings = [1, 5, 10]\n",
    "best_score = 0\n",
    "\n",
    "for C in C_settings:\n",
    "    for epsilon in epsilon_settings:\n",
    "        ksvr = SVR(kernel = 'linear', C = C, epsilon = epsilon)\n",
    "        score = cross_val_score(ksvr, X, y).mean()\n",
    "        if score > best_score:\n",
    "            best_score = score\n",
    "            best_C = C\n",
    "            best_epsilon = epsilon\n",
    "            \n",
    "print('The parameters which give the best score of {:.3f}'.format(best_score),\n",
    "      'are C:',best_C,'and epsilon:',best_epsilon)"
   ]
  },
  {
   "cell_type": "markdown",
   "metadata": {},
   "source": [
    "#### (iii) Using Polynomial kernel"
   ]
  },
  {
   "cell_type": "code",
   "execution_count": 37,
   "metadata": {},
   "outputs": [
    {
     "name": "stdout",
     "output_type": "stream",
     "text": [
      "The parameters which give the best score of 0.825 are C: 50 and epsilon: 1\n"
     ]
    }
   ],
   "source": [
    "C_settings = [1, 25, 50]\n",
    "epsilon_settings = [0.1, 1, 5]\n",
    "best_score = 0\n",
    "\n",
    "for C in C_settings:\n",
    "    for epsilon in epsilon_settings:\n",
    "        ksvr = SVR(kernel = 'poly', C = C, epsilon = epsilon)\n",
    "        score = cross_val_score(ksvr, X, y).mean()\n",
    "        if score > best_score:\n",
    "            best_score = score\n",
    "            best_C = C\n",
    "            best_epsilon = epsilon\n",
    "            \n",
    "print('The parameters which give the best score of {:.3f}'.format(best_score),\n",
    "      'are C:',best_C,'and epsilon:',best_epsilon)"
   ]
  },
  {
   "cell_type": "markdown",
   "metadata": {},
   "source": [
    "#### Support vector regression with the polynomial kernel, a high of C = 50 and epsilon = 5 has given the best accuracy so far. "
   ]
  },
  {
   "cell_type": "markdown",
   "metadata": {},
   "source": [
    "### Model 8: Polynomial Regression"
   ]
  },
  {
   "cell_type": "code",
   "execution_count": 38,
   "metadata": {},
   "outputs": [],
   "source": [
    "from sklearn.preprocessing import PolynomialFeatures"
   ]
  },
  {
   "cell_type": "code",
   "execution_count": 39,
   "metadata": {},
   "outputs": [
    {
     "data": {
      "text/plain": [
       "Text(0.5, 0, 'Polynomial Degree')"
      ]
     },
     "execution_count": 39,
     "metadata": {},
     "output_type": "execute_result"
    },
    {
     "data": {
      "image/png": "[encoded data removed]",
      "text/plain": [
       "<Figure size 432x288 with 1 Axes>"
      ]
     },
     "metadata": {
      "needs_background": "light"
     },
     "output_type": "display_data"
    }
   ],
   "source": [
    "degree_settings = [2, 3]\n",
    "accuracy = []\n",
    "\n",
    "for degree in degree_settings:\n",
    "    poly = PolynomialFeatures(degree = degree)\n",
    "    X_poly = poly.fit_transform(X)\n",
    "    poly_reg = LinearRegression()\n",
    "    scores = cross_val_score(poly_reg, X_poly, y)\n",
    "    accuracy.append(scores.mean())\n",
    "plt.plot(degree_settings, accuracy)\n",
    "plt.ylabel(\"Accuracy\")\n",
    "plt.xlabel(\"Polynomial Degree\")"
   ]
  },
  {
   "cell_type": "markdown",
   "metadata": {},
   "source": [
    "#### It looks like Polynomial Regression gives us terrible accuracy regardless of degree, so we won't be using this.\n",
    "#### We can conclude that a support vector machine is the best algorithm to use for this regression."
   ]
  },
  {
   "cell_type": "markdown",
   "metadata": {},
   "source": [
    "### We have narrowed down on the support vector regression model with a polynomial kernel, C = 50 and epsilon = 1. This has given us a cross validation accuracy of 0.825 throughout the dataset, so this is the final model we will be using."
   ]
  },
  {
   "cell_type": "code",
   "execution_count": 41,
   "metadata": {},
   "outputs": [
    {
     "name": "stdout",
     "output_type": "stream",
     "text": [
      "Train score: 0.942\n",
      "Test score 0.903\n"
     ]
    }
   ],
   "source": [
    "from sklearn.model_selection import train_test_split\n",
    "\n",
    "X_train, X_test, y_train, y_test = train_test_split(X, y, random_state = 100)\n",
    "svr = SVR(kernel = 'poly', C = 50, epsilon = 5)\n",
    "svr.fit(X_train, y_train)\n",
    "\n",
    "print('Train score: {:.3f}'.format(svr.score(X_train, y_train)))\n",
    "print('Test score {:.3f}'.format(svr.score(X_test, y_test)))"
   ]
  },
  {
   "cell_type": "markdown",
   "metadata": {},
   "source": [
    "#### As can be seen above, the model not only fits very well to the training data but also generalizes to the test set. The difference between training and test score is low enough to conclude that this falls within a reasonable margin of error, and this is therefore the best model for predicting bicycle rentals using environmental conditions."
   ]
  }
 ],
 "metadata": {
  "kernelspec": {
   "display_name": "Python 3",
   "language": "python",
   "name": "python3"
  },
  "language_info": {
   "codemirror_mode": {
    "name": "ipython",
    "version": 3
   },
   "file_extension": ".py",
   "mimetype": "text/x-python",
   "name": "python",
   "nbconvert_exporter": "python",
   "pygments_lexer": "ipython3",
   "version": "3.7.6"
  }
 },
 "nbformat": 4,
 "nbformat_minor": 4
}
